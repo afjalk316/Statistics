{
 "cells": [
  {
   "cell_type": "code",
   "execution_count": 1,
   "id": "94f70f02",
   "metadata": {},
   "outputs": [],
   "source": [
    "import pandas as pd\n",
    "import numpy as np\n",
    "import statistics as stat\n",
    "from scipy.stats import stats\n",
    "import warnings\n",
    "warnings.filterwarnings('ignore')"
   ]
  },
  {
   "cell_type": "markdown",
   "id": "f2a0dbb2",
   "metadata": {},
   "source": [
    "# Q.1:  According to a study,the daily average time spent by a user on a social media website is 50 minutes.\n",
    "# To test the claim of this study,Ramesh,are searcher,takes a sample of 25 website users and findsout that the mean time spent by the sample users is 60 minutes and the sample standard deviation is 30 minutes.\n",
    "# Based on this information,the null and the alternative hypotheses will be:\n",
    "   ## Ho=The average time spent by the users is 50 minutes\n",
    "   ## H1=The average time spent by the users is not 50 minutes\n",
    "   ## Use a 5% significance level to test this hypothesis."
   ]
  },
  {
   "cell_type": "code",
   "execution_count": 65,
   "id": "74e1e003",
   "metadata": {},
   "outputs": [
    {
     "name": "stdout",
     "output_type": "stream",
     "text": [
      "t_vaule= 1.6666666666666667\n",
      "t_critical for alpha=0.05 and dof=24 from table is= 1.711\n"
     ]
    }
   ],
   "source": [
    "pop_mean=50\n",
    "sam_mean=60\n",
    "sam_std_dev=30\n",
    "sam_size=25\n",
    "\n",
    "## applying t_test:\n",
    "\n",
    "t=(sam_mean-pop_mean)/(sam_std_dev/(sam_size**0.5))\n",
    "print('t_vaule=',t)\n",
    "\n",
    "alpha=0.05\n",
    "\n",
    "dof=sam_size-1         ## degree of freedom(dof)\n",
    "\n",
    "## t_critical for aplha=0.05 and dof=24 is 1.711  (for table of p_critical values)\n",
    "\n",
    "print('t_critical for alpha=0.05 and dof=24 from table is=',1.711)"
   ]
  },
  {
   "cell_type": "markdown",
   "id": "788709bf",
   "metadata": {},
   "source": [
    "### Result: t_value < t_critical value hence we can not reject the null hypothesis."
   ]
  },
  {
   "cell_type": "markdown",
   "id": "325027ae",
   "metadata": {},
   "source": [
    "# Q.2: Height of 7 students (incm) is given below. What is the median?\n",
    "## 168 170 169 160 162 164 162."
   ]
  },
  {
   "cell_type": "code",
   "execution_count": 2,
   "id": "f6836947",
   "metadata": {},
   "outputs": [
    {
     "name": "stdout",
     "output_type": "stream",
     "text": [
      "Median is 164.0\n"
     ]
    }
   ],
   "source": [
    "a=pd.Series([168,170,169,160,162,164,162])\n",
    "med=a.median()\n",
    "print(f'Median is {med}')            ## Value that denotes the middle value called median."
   ]
  },
  {
   "cell_type": "markdown",
   "id": "7932cd62",
   "metadata": {},
   "source": [
    "# Q.3: Below are the observations of the marks of a student. Find the value of mode.\n",
    "##   84 85 89 92 93 89 87 89 92"
   ]
  },
  {
   "cell_type": "code",
   "execution_count": 3,
   "id": "ae813910",
   "metadata": {},
   "outputs": [
    {
     "name": "stdout",
     "output_type": "stream",
     "text": [
      "Mode is: 89\n"
     ]
    }
   ],
   "source": [
    "a=pd.Series([84,85,89,92,93,89,87,89,92])\n",
    "print('Mode is:',stat.mode(a))            ## Value that comes more no. of times in data is called mode."
   ]
  },
  {
   "cell_type": "markdown",
   "id": "fe2763aa",
   "metadata": {},
   "source": [
    "# Q.4: From the table given below, what is the mean of marks obtained by 20 students?\n",
    "## Marks Xi: 3,4,5,6,7,8,9,10\n",
    "## No. of Students Fi: 1,2,2,4,5,3,2,1"
   ]
  },
  {
   "cell_type": "code",
   "execution_count": 4,
   "id": "9cc511cb",
   "metadata": {},
   "outputs": [
    {
     "name": "stdout",
     "output_type": "stream",
     "text": [
      "Sum of Product of Xi*Fi is: 132\n",
      "Sum of Student Fi: 20\n",
      "Mean is (Sigma(Xi*Fi)/sigma(fi)): 6.6\n"
     ]
    }
   ],
   "source": [
    "Marks_Xi=a=[3,4,5,6,7,8,9,10]\n",
    "\n",
    "No_of_Students_Fi=b=[1,2,2,4,5,3,2,1]\n",
    "\n",
    "Xi_fi=c=[]\n",
    "\n",
    "for i in range(8):\n",
    "    d=a[i]*b[i]\n",
    "    c.append(d)\n",
    "    \n",
    "Total_students=sum(b)\n",
    "\n",
    "sum_of_Xi_Fi=sum(c)\n",
    "\n",
    "Mean=(sum_of_Xi_Fi)/(Total_students)\n",
    "\n",
    "print('Sum of Product of Xi*Fi is:',sum_of_Xi_Fi)\n",
    "print('Sum of Student Fi:',Total_students)\n",
    "print('Mean is (Sigma(Xi*Fi)/sigma(fi)):',Mean)"
   ]
  },
  {
   "cell_type": "markdown",
   "id": "e3832c21",
   "metadata": {},
   "source": [
    "## Q.5: For a certain type of computer, the length of time between charges of the battery is normally distributed with a mean of 50 hours and a standard deviation of 15 hours. John owns one of these computers and wants to know the probability that the length of time will be between 50 and 70 hours."
   ]
  },
  {
   "cell_type": "code",
   "execution_count": 5,
   "id": "9520ea1e",
   "metadata": {},
   "outputs": [
    {
     "name": "stdout",
     "output_type": "stream",
     "text": [
      "0.4087887802741321\n"
     ]
    }
   ],
   "source": [
    "## distribution is normal\n",
    "\n",
    "from scipy.stats import norm\n",
    "\n",
    "## x is between 50 and 70\n",
    "\n",
    "mean=50\n",
    "std=15\n",
    "\n",
    "probability=(norm(mean,std).cdf(70)-norm(mean,std).cdf(50))\n",
    "\n",
    "print(probability)"
   ]
  },
  {
   "cell_type": "markdown",
   "id": "a9da29f6",
   "metadata": {},
   "source": [
    "# Q.6: Find the range of the following.\n",
    "## g = [10, 23, 12, 21, 14, 17, 16, 11, 15, 19]\n"
   ]
  },
  {
   "cell_type": "code",
   "execution_count": 6,
   "id": "6a0d114b",
   "metadata": {},
   "outputs": [
    {
     "name": "stdout",
     "output_type": "stream",
     "text": [
      "Range is: 13\n"
     ]
    }
   ],
   "source": [
    "g=[10, 23, 12, 21, 14, 17, 16, 11, 15, 19]\n",
    "\n",
    "df=pd.Series(g)\n",
    "\n",
    "## Range is the difference between Max. and Min. value of given data.\n",
    "\n",
    "range=df.max()-df.min()\n",
    "\n",
    "print('Range is:',range)"
   ]
  },
  {
   "cell_type": "markdown",
   "id": "9d471004",
   "metadata": {},
   "source": [
    "## Q.7: It is estimated that 50% of emails are spam emails.Some software has been applied to filter these spam emails before they reach your inbox. A certain brand of software claims that it can detect 99% of spam emails, and the probability for a false positive (a non-spam email detected as spam) is 5%. Now if an email is detected as spam, then what is the probability that it is in fact a non-spam email?\n"
   ]
  },
  {
   "cell_type": "code",
   "execution_count": 7,
   "id": "4b6b1026",
   "metadata": {},
   "outputs": [
    {
     "name": "stdout",
     "output_type": "stream",
     "text": [
      "Probability is P(B'/A): 0.04807692307692308\n"
     ]
    }
   ],
   "source": [
    "## probability of being spam p(B)= 0.5 = a  (below assign this value in a )\n",
    "\n",
    "a=0.5\n",
    "\n",
    "## Then p(B')=1-p(B)=0.5 = b  (below assign this value in b )\n",
    "\n",
    "b=0.5\n",
    "\n",
    "## Software claim to detect 99% of spam email then probability p(A/B)=0.99 = c   (below assign this value in c )\n",
    "\n",
    "c=0.99\n",
    "\n",
    "## probability of false detect non_spam email as spam p(A/B')=0.05 = d         (below assign this value in d )\n",
    "\n",
    "d=0.05\n",
    "\n",
    "## if email is detected as spam then probability that it is a non_spam email p(B'/A)=(p(A/B')*p(B'))/(p(A/B)*p(B)+p(A/B')*p(B')) = e     (below assign this value in e )\n",
    "\n",
    "e=(d*b)/(c*a+d*b)\n",
    "\n",
    "print(\"Probability is P(B'/A):\",e)"
   ]
  },
  {
   "cell_type": "markdown",
   "id": "87fd6ef0",
   "metadata": {},
   "source": [
    "## Q.8: Given the following distribution of returns, determine the lower quartile: \n",
    "## {10 25 12 21 19 17 16 11 15 19}\n"
   ]
  },
  {
   "cell_type": "code",
   "execution_count": 8,
   "id": "e8d8519d",
   "metadata": {},
   "outputs": [
    {
     "name": "stdout",
     "output_type": "stream",
     "text": [
      "Lower Quartile Q1 is: 12.75\n"
     ]
    }
   ],
   "source": [
    "a=[10,25,12,21,19,17,16,11,15,19]\n",
    "\n",
    "df=pd.Series(a)\n",
    "\n",
    "b=df.quantile(0.25)\n",
    "\n",
    "print('Lower Quartile Q1 is:',b)"
   ]
  },
  {
   "cell_type": "markdown",
   "id": "9d4800cb",
   "metadata": {},
   "source": [
    "## Q.9: For a Binomial distribution, the number of trials(n) is 25, and the probability of success is 0.3. What’s the variability of the distribution?"
   ]
  },
  {
   "cell_type": "code",
   "execution_count": 9,
   "id": "ea9944ce",
   "metadata": {},
   "outputs": [
    {
     "name": "stdout",
     "output_type": "stream",
     "text": [
      "Variability of Binomial distribution is: 5.25\n"
     ]
    }
   ],
   "source": [
    "## no of trials:\n",
    "\n",
    "n=25\n",
    "\n",
    "## probability of success:\n",
    "\n",
    "p=0.3\n",
    "\n",
    "## variability of the distribution: var= n*p*q  (where n= no.of trails, p=probability of success ,q=(1-p) )\n",
    "\n",
    "q=(1-p)\n",
    "\n",
    "var= n*p*q\n",
    "\n",
    "print('Variability of Binomial distribution is:',var)"
   ]
  },
  {
   "cell_type": "markdown",
   "id": "41a42431",
   "metadata": {},
   "source": [
    "## Q.10: Download the Cell Phone Survey Dataset and perform the below mentioned operations on the dataset:-\n"
   ]
  },
  {
   "cell_type": "code",
   "execution_count": 10,
   "id": "6458e433",
   "metadata": {},
   "outputs": [
    {
     "data": {
      "text/html": [
       "<div>\n",
       "<style scoped>\n",
       "    .dataframe tbody tr th:only-of-type {\n",
       "        vertical-align: middle;\n",
       "    }\n",
       "\n",
       "    .dataframe tbody tr th {\n",
       "        vertical-align: top;\n",
       "    }\n",
       "\n",
       "    .dataframe thead th {\n",
       "        text-align: right;\n",
       "    }\n",
       "</style>\n",
       "<table border=\"1\" class=\"dataframe\">\n",
       "  <thead>\n",
       "    <tr style=\"text-align: right;\">\n",
       "      <th></th>\n",
       "      <th>Gender</th>\n",
       "      <th>Carrier</th>\n",
       "      <th>Type</th>\n",
       "      <th>Usage</th>\n",
       "      <th>Signal strength</th>\n",
       "      <th>Value for the Dollar</th>\n",
       "      <th>Customer Service</th>\n",
       "    </tr>\n",
       "  </thead>\n",
       "  <tbody>\n",
       "    <tr>\n",
       "      <th>0</th>\n",
       "      <td>M</td>\n",
       "      <td>AT&amp;T</td>\n",
       "      <td>Smart</td>\n",
       "      <td>High</td>\n",
       "      <td>5</td>\n",
       "      <td>4</td>\n",
       "      <td>4</td>\n",
       "    </tr>\n",
       "    <tr>\n",
       "      <th>1</th>\n",
       "      <td>M</td>\n",
       "      <td>AT&amp;T</td>\n",
       "      <td>Smart</td>\n",
       "      <td>High</td>\n",
       "      <td>5</td>\n",
       "      <td>4</td>\n",
       "      <td>2</td>\n",
       "    </tr>\n",
       "    <tr>\n",
       "      <th>2</th>\n",
       "      <td>M</td>\n",
       "      <td>AT&amp;T</td>\n",
       "      <td>Smart</td>\n",
       "      <td>Average</td>\n",
       "      <td>4</td>\n",
       "      <td>4</td>\n",
       "      <td>4</td>\n",
       "    </tr>\n",
       "    <tr>\n",
       "      <th>3</th>\n",
       "      <td>M</td>\n",
       "      <td>AT&amp;T</td>\n",
       "      <td>Smart</td>\n",
       "      <td>Very high</td>\n",
       "      <td>2</td>\n",
       "      <td>3</td>\n",
       "      <td>3</td>\n",
       "    </tr>\n",
       "    <tr>\n",
       "      <th>4</th>\n",
       "      <td>M</td>\n",
       "      <td>AT&amp;T</td>\n",
       "      <td>Smart</td>\n",
       "      <td>Very high</td>\n",
       "      <td>5</td>\n",
       "      <td>5</td>\n",
       "      <td>2</td>\n",
       "    </tr>\n",
       "  </tbody>\n",
       "</table>\n",
       "</div>"
      ],
      "text/plain": [
       "  Gender Carrier   Type      Usage  Signal strength  Value for the Dollar  \\\n",
       "0      M    AT&T  Smart       High                5                     4   \n",
       "1      M    AT&T  Smart       High                5                     4   \n",
       "2      M    AT&T  Smart    Average                4                     4   \n",
       "3      M    AT&T  Smart  Very high                2                     3   \n",
       "4      M    AT&T  Smart  Very high                5                     5   \n",
       "\n",
       "   Customer Service  \n",
       "0                 4  \n",
       "1                 2  \n",
       "2                 4  \n",
       "3                 3  \n",
       "4                 2  "
      ]
     },
     "execution_count": 10,
     "metadata": {},
     "output_type": "execute_result"
    }
   ],
   "source": [
    "## first read the given dataset.\n",
    "\n",
    "df=pd.read_csv('Cell Phone Survey.csv')\n",
    "\n",
    "## check null values. there is no null value is this dateset.\n",
    "\n",
    "df.isnull().sum()  \n",
    "\n",
    "## to check first five rows.\n",
    "\n",
    "df.head()"
   ]
  },
  {
   "cell_type": "markdown",
   "id": "18bda877",
   "metadata": {},
   "source": [
    "### ● Checking datatypes of each column in the dataset."
   ]
  },
  {
   "cell_type": "code",
   "execution_count": 11,
   "id": "3ae6dfb7",
   "metadata": {},
   "outputs": [
    {
     "data": {
      "text/plain": [
       "Gender                  object\n",
       "Carrier                 object\n",
       "Type                    object\n",
       "Usage                   object\n",
       "Signal strength          int64\n",
       "Value for the Dollar     int64\n",
       "Customer Service         int64\n",
       "dtype: object"
      ]
     },
     "execution_count": 11,
     "metadata": {},
     "output_type": "execute_result"
    }
   ],
   "source": [
    "##find datetype of each column.\n",
    "\n",
    "df.dtypes"
   ]
  },
  {
   "cell_type": "markdown",
   "id": "7c46a1a5",
   "metadata": {},
   "source": [
    "### ● Find Mean of Signal strength column using Pandas and Statistics library.\n"
   ]
  },
  {
   "cell_type": "code",
   "execution_count": 12,
   "id": "6c799860",
   "metadata": {},
   "outputs": [
    {
     "name": "stdout",
     "output_type": "stream",
     "text": [
      "Mean using pandas is : 3.3076923076923075\n",
      "Mean using statistics library is : 3.3076923076923075\n"
     ]
    }
   ],
   "source": [
    "## assign that column to a.\n",
    "\n",
    "a=df['Signal strength']\n",
    "\n",
    "## to know the mean by using Pandas.\n",
    "\n",
    "print('Mean using pandas is :',a.mean())\n",
    "\n",
    "## to know the mean by using Statistics library.\n",
    "\n",
    "print('Mean using statistics library is :',stat.mean(a))"
   ]
  },
  {
   "cell_type": "markdown",
   "id": "654e9f5b",
   "metadata": {},
   "source": [
    "### ● Find the Median of Customer Service column using Pandas and Statistics library."
   ]
  },
  {
   "cell_type": "code",
   "execution_count": 13,
   "id": "d52c0e34",
   "metadata": {},
   "outputs": [
    {
     "name": "stdout",
     "output_type": "stream",
     "text": [
      "Median using pandas is : 3.0\n",
      "Median using statistics library is : 3.0\n"
     ]
    }
   ],
   "source": [
    "## assign that column to b.\n",
    "\n",
    "b=df['Customer Service']\n",
    "\n",
    "## to know the median by using Pandas.\n",
    "\n",
    "print('Median using pandas is :',b.median())\n",
    "\n",
    "## to know the median by using Statistics library.\n",
    "\n",
    "print('Median using statistics library is :',stat.median(b))"
   ]
  },
  {
   "cell_type": "markdown",
   "id": "7f2fae63",
   "metadata": {},
   "source": [
    "### ● Find Mode of Signal strength column using Pandas and Statistics library."
   ]
  },
  {
   "cell_type": "code",
   "execution_count": 14,
   "id": "15bbeb28",
   "metadata": {},
   "outputs": [
    {
     "name": "stdout",
     "output_type": "stream",
     "text": [
      "Mode using pandas is : 0    3\n",
      "Name: Signal strength, dtype: int64\n",
      "Mode using statistics library is : 3\n"
     ]
    }
   ],
   "source": [
    "## assign that column to c.\n",
    "\n",
    "c=df['Signal strength']\n",
    "\n",
    "## to know the mode by using Pandas.\n",
    "\n",
    "print('Mode using pandas is :',c.mode())\n",
    "\n",
    "## to know the mode by using Statistics library.\n",
    "\n",
    "print('Mode using statistics library is :',stat.mode(c))"
   ]
  },
  {
   "cell_type": "markdown",
   "id": "7bb2a38a",
   "metadata": {},
   "source": [
    "### ● Find Standard deviation of Customer Service column using Pandas and Statistics library.\n"
   ]
  },
  {
   "cell_type": "code",
   "execution_count": 15,
   "id": "dc085537",
   "metadata": {},
   "outputs": [
    {
     "name": "stdout",
     "output_type": "stream",
     "text": [
      "Std. devaiton using pandas is : 0.9623375261979595\n",
      "Std. devation using statistics library is : 0.9623375261979595\n"
     ]
    }
   ],
   "source": [
    "## assign that column to d.\n",
    "\n",
    "d=df['Customer Service']\n",
    "\n",
    "## to know the standard deviation by using Pandas.\n",
    "\n",
    "print('Std. devaiton using pandas is :',d.std())\n",
    "\n",
    "## to know the standard deviation by using Statistics library.\n",
    "\n",
    "print('Std. devation using statistics library is :',stat.stdev(d))"
   ]
  },
  {
   "cell_type": "markdown",
   "id": "f5a9fb2c",
   "metadata": {},
   "source": [
    "### ● Find Variance of Customer Service column using Pandas and Statistics library."
   ]
  },
  {
   "cell_type": "code",
   "execution_count": 16,
   "id": "89f0f6e4",
   "metadata": {},
   "outputs": [
    {
     "name": "stdout",
     "output_type": "stream",
     "text": [
      "Variance using pandas is : 0.9260935143288084\n",
      "Variance using statistics library is : 0.9260935143288085\n"
     ]
    }
   ],
   "source": [
    "## assign that column to e.\n",
    "\n",
    "e=df['Customer Service']\n",
    "\n",
    "## to know the variance by using Pandas.\n",
    "\n",
    "print('Variance using pandas is :',e.var())\n",
    "\n",
    "## to know the variance by using Statistics library.\n",
    "\n",
    "print('Variance using statistics library is :',stat.variance(e))"
   ]
  },
  {
   "cell_type": "markdown",
   "id": "4e4a6be8",
   "metadata": {},
   "source": [
    "### ● Calculate Percentiles of Value for the Dollar column using Numpy.\n"
   ]
  },
  {
   "cell_type": "code",
   "execution_count": 17,
   "id": "6e920c29",
   "metadata": {},
   "outputs": [
    {
     "name": "stdout",
     "output_type": "stream",
     "text": [
      "25th percentile is :  3.0\n",
      "50th percentile is :  3.0\n",
      "75th percentile is :  4.0\n",
      "100th percentile is :  5.0\n"
     ]
    }
   ],
   "source": [
    "## assign that column to a1.\n",
    "\n",
    "a1=df['Value for the Dollar']\n",
    "\n",
    "## to know the Percentiles by using Numpy.\n",
    "\n",
    "print(\"25th percentile is : \",np.percentile(a1,25))\n",
    "print(\"50th percentile is : \",np.percentile(a1,50))\n",
    "print(\"75th percentile is : \",np.percentile(a1,75))\n",
    "print(\"100th percentile is : \",np.percentile(a1,100))"
   ]
  },
  {
   "cell_type": "markdown",
   "id": "7bb9b503",
   "metadata": {},
   "source": [
    "### ● Calculate Range of Value for the Dollar column using Pandas.\n"
   ]
  },
  {
   "cell_type": "code",
   "execution_count": 18,
   "id": "9cfc637e",
   "metadata": {},
   "outputs": [
    {
     "name": "stdout",
     "output_type": "stream",
     "text": [
      "Range is: 4\n"
     ]
    }
   ],
   "source": [
    "## assign that column to a2.\n",
    "\n",
    "a2=df['Value for the Dollar']\n",
    "\n",
    "## to know the range by using pandas.\n",
    "\n",
    "a3=a2.max()-a2.min()\n",
    "\n",
    "print('Range is:',a3)"
   ]
  },
  {
   "cell_type": "markdown",
   "id": "90cffc2b",
   "metadata": {},
   "source": [
    "### ● Calculate IQR of Value for the Dollar column using Pandas."
   ]
  },
  {
   "cell_type": "code",
   "execution_count": 19,
   "id": "8e13f59a",
   "metadata": {},
   "outputs": [
    {
     "name": "stdout",
     "output_type": "stream",
     "text": [
      "IQR is: 1.0\n"
     ]
    }
   ],
   "source": [
    "## assign that column to b1.\n",
    "\n",
    "b1=df['Value for the Dollar']\n",
    "\n",
    "## to know the IQR by using pandas.\n",
    "\n",
    "q1=np.quantile(b1,0.25)\n",
    "\n",
    "q3=np.quantile(b1,0.75)\n",
    "\n",
    "IQR= q3-q1\n",
    "\n",
    "print('IQR is:',IQR)"
   ]
  },
  {
   "cell_type": "markdown",
   "id": "2d76baca",
   "metadata": {},
   "source": [
    "### ● Hypothesis Testing - Using the data in the Cell Phone Survey dataset, apply ANOVA to determine if the mean response for Value for dollar is the same for different types of cell phones.\n"
   ]
  },
  {
   "cell_type": "code",
   "execution_count": 39,
   "id": "ce93c4d9",
   "metadata": {},
   "outputs": [
    {
     "name": "stdout",
     "output_type": "stream",
     "text": [
      "Mean of data1: 3.8095238095238093\n",
      "Mean of data2: 3.1578947368421053\n",
      "Mean of data3: 3.1666666666666665\n"
     ]
    }
   ],
   "source": [
    "data1=df['Value for the Dollar'][df['Type']=='Smart']\n",
    "\n",
    "data2=df['Value for the Dollar'][df['Type']=='Camera']\n",
    "\n",
    "data3=df['Value for the Dollar'][df['Type']=='Basic']\n",
    "\n",
    "print('Mean of data1:',data1.mean())\n",
    "print('Mean of data2:',data2.mean())\n",
    "print('Mean of data3:',data3.mean())"
   ]
  },
  {
   "cell_type": "code",
   "execution_count": 40,
   "id": "aba5e9b4",
   "metadata": {},
   "outputs": [
    {
     "data": {
      "text/plain": [
       "F_onewayResult(statistic=3.111194352801031, pvalue=0.05345420071280546)"
      ]
     },
     "execution_count": 40,
     "metadata": {},
     "output_type": "execute_result"
    }
   ],
   "source": [
    "## applying Anova test in above three groups.\n",
    "\n",
    "stats.f_oneway(data1,data2,data3)"
   ]
  },
  {
   "cell_type": "markdown",
   "id": "07dc15ef",
   "metadata": {},
   "source": [
    "### Result: pvalue is greater than alpha value=0.05 so we accept  the null hypothesis but alternate hypothesis is rejected. we can say that the mean of different type of cell phones  are same."
   ]
  }
 ],
 "metadata": {
  "kernelspec": {
   "display_name": "Python 3 (ipykernel)",
   "language": "python",
   "name": "python3"
  },
  "language_info": {
   "codemirror_mode": {
    "name": "ipython",
    "version": 3
   },
   "file_extension": ".py",
   "mimetype": "text/x-python",
   "name": "python",
   "nbconvert_exporter": "python",
   "pygments_lexer": "ipython3",
   "version": "3.11.3"
  }
 },
 "nbformat": 4,
 "nbformat_minor": 5
}
